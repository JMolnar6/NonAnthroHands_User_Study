{
 "cells": [
  {
   "cell_type": "markdown",
   "metadata": {
    "id": "6dRS2DdHH8LZ"
   },
   "source": [
    "#     Gaussian Process Regression"
   ]
  },
  {
   "cell_type": "markdown",
   "metadata": {
    "id": "INr7MNgEH8Lb"
   },
   "source": [
    "Let's begin with importing the required libraries:"
   ]
  },
  {
   "cell_type": "code",
   "execution_count": 1,
   "metadata": {
    "id": "2bkOpxFQH8Lb"
   },
   "outputs": [],
   "source": [
    "import numpy as np\n",
    "from sklearn.gaussian_process import GaussianProcessRegressor\n",
    "from sklearn.gaussian_process.kernels import (\n",
    "    RBF,\n",
    "    WhiteKernel,\n",
    "    ExpSineSquared\n",
    ")\n",
    "import matplotlib.pyplot as plt\n",
    "from mpl_toolkits import mplot3d\n",
    "from matplotlib import cm\n",
    "\n",
    "# for saving data files\n",
    "import pandas as pd"
   ]
  },
  {
   "cell_type": "code",
   "execution_count": null,
   "metadata": {
    "colab": {
     "base_uri": "https://localhost:8080/",
     "height": 368
    },
    "id": "jZBlfzxzH8Ld",
    "outputId": "f77b1744-c75e-4a5e-b1de-4fa1cf30ce43"
   },
   "outputs": [
    {
     "name": "stdout",
     "output_type": "stream",
     "text": [
      "RBF Lengthscale: RBF(length_scale=1.56)\n",
      "RBF Lengthscale: RBF(length_scale=0.263)\n",
      "RBF Lengthscale: RBF(length_scale=1.05)\n",
      "RBF Lengthscale: RBF(length_scale=0.648)\n",
      "RBF Lengthscale: RBF(length_scale=0.232)\n",
      "RBF Lengthscale: RBF(length_scale=1e+04)\n",
      "(49, 6)\n",
      "(49, 6)\n"
     ]
    }
   ],
   "source": [
    "# Initial parameters: vary these to control how many gestures (sets) are used for GPR training, which sets/runs\n",
    "#  are excluded, and whether DTW is used\n",
    "\n",
    "# Hard coded from DTW python file: endpt = -100 (future runs will save endpt, so you can extract it from the file)\n",
    "initialtruncate = -100\n",
    "\n",
    "doDTW = True\n",
    "alphaval = 1e-2\n",
    "\n",
    "endpt = -50 # Empirically determined end of data (cutting off trailing ends)\n",
    "stepsize = 10\n",
    "\n",
    "setskipval = 0\n",
    "# runskipval = 1 # Identify the run that will serve as the test dataset\n",
    "setrange = 1\n",
    "\n",
    "for set_num in range(0,setrange):\n",
    "    for runskipval in range(1,11):\n",
    "        x,y = load_data(set_num, setskipval, runskipval, doDTW, endpt)\n",
    "        x_star, y_test = test_set(setskipval, runskipval, doDTW)\n",
    "\n",
    "        J1_pred_mean, J1_pred_std = GPR_joint_prediction(alphaval, x, y, x_star, 0)\n",
    "        J2_pred_mean, J2_pred_std = GPR_joint_prediction(alphaval, x, y, x_star, 1)\n",
    "        J3_pred_mean, J3_pred_std = GPR_joint_prediction(alphaval, x, y, x_star, 2)\n",
    "        J4_pred_mean, J4_pred_std = GPR_joint_prediction(alphaval, x, y, x_star, 3)\n",
    "        J5_pred_mean, J5_pred_std = GPR_joint_prediction(alphaval, x, y, x_star, 4)\n",
    "        J6_pred_mean, J6_pred_std = GPR_joint_prediction(alphaval, x, y, x_star, 5)\n",
    "\n",
    "        pred_vals = np.vstack((J1_pred_mean, J2_pred_mean, J3_pred_mean, J4_pred_mean, J5_pred_mean, J6_pred_mean)).T\n",
    "        std_vals  = np.vstack((J1_pred_std , J2_pred_std , J3_pred_std , J4_pred_std , J5_pred_std , J6_pred_std )).T\n",
    "\n",
    "        plot_error(pred_vals, std_vals, y_test, setrange, runskipval, alphaval)\n",
    "        save_error(std_vals, y_test, setrange, runskipval, alphaval)\n",
    "        plot_prediction(pred_vals, std_vals, y_test, setrange, runskipval, alphaval, set_range)\n",
    "\n",
    "        #Note: technically, to get a good error analysis, you should repeat 10 times with each run taking a turn being left out for cross-validation\n",
    "        err_est = 0\n",
    "        err_act = 0\n",
    "\n",
    "    for i in range(0,11):\n",
    "    #     error_data = np.load(\"..\\\\NonAnthroHands_User_Study\\\\data\\\\positions\\\\positions_\"+str(set_num)+\"_data\\\\DTW_processed_data\\\\data_\"+str(set_num)+\"_\"+str(run)+\".npz\")\n",
    "        error_data = np.load('error_avg_for_Train'+str(setrange-1)+'_leaveoneout_'+str(runskipval)+'_alphaval_'+str(alphaval)+'.npz')    \n",
    "        err_est = err_est + error_data['error_estimate']\n",
    "        err_act = err_act + error_data['actual_error']\n",
    "    print(err_est)\n",
    "    print(err_act)\n",
    "\n"
   ]
  },
  {
   "cell_type": "code",
   "execution_count": 12,
   "metadata": {
    "colab": {
     "base_uri": "https://localhost:8080/",
     "height": 368
    },
    "id": "jZBlfzxzH8Ld",
    "outputId": "f77b1744-c75e-4a5e-b1de-4fa1cf30ce43"
   },
   "outputs": [],
   "source": [
    "def load_data(set_num, setskipval, runskipval, doDTW, endpt):\n",
    "    # Uncomment the next line when running on Ubuntu, the line following if running on Windows\n",
    "    # data = np.load(\"../NonAnthroHands_User_Study/data/positions/positions_\"+str(set_num)+\"_data/DTW_processed_data/data_\"+str(set_num)+\"_\"+str(run)+\".npz\")\n",
    "#     data = np.load(\"..\\\\NonAnthroHands_User_Study\\\\data\\\\positions\\\\positions_\"+str(set_num)+\"_data\\\\DTW_processed_data\\\\data_\"+str(set_num)+\"_\"+str(run)+\".npz\")\n",
    "#     print(sorted(data.files))\n",
    "\n",
    "    # if doDTW:\n",
    "    #     x = np.hstack((data['hand_pos_aligned'][0:endpt:stepsize], data['hand_rot_aligned'][0:endpt:stepsize]))\n",
    "    #     y = data['joint_data_aligned'][0:endpt:stepsize]\n",
    "    # else: # Load non-DTW-aligned data\n",
    "    #     x = data['hand_data'][0:endpt+initialtruncate:stepsize,1:7]\n",
    "    #     y = data['joint_data_aligned'][0:endpt:stepsize]\n",
    "\n",
    "    # Initialize data arrays\n",
    "    x = np.array((0, 0, 0, 0, 0, 0))\n",
    "    y = np.array((0, 0, 0, 0, 0, 0))\n",
    "\n",
    "    for set_num in range(0,1):\n",
    "    #     print(\"set_num = \"+str(set_num))\n",
    "    #     if set_num==setskipval:\n",
    "    #         continue\n",
    "    #     else:\n",
    "            for run in range (1,11):\n",
    "                if set_num==setskipval and run==runskipval : \n",
    "    #             if run==runskipval : \n",
    "                    continue\n",
    "                else :\n",
    "        #             print(\"run=\"+str(run))\n",
    "        #             data = np.load(\"../NonAnthroHands_User_Study/data/positions/positions_\"+str(set_num)+\"_data/DTW_processed_data/data_\"+str(set_num)+\"_\"+str(run)+\".npz\")\n",
    "                    data = np.load(\"..\\\\NonAnthroHands_User_Study\\\\data\\\\positions\\\\positions_\"+str(set_num)+\"_data\\\\DTW_processed_data\\\\data_\"+str(set_num)+\"_\"+str(run)+\".npz\")\n",
    "\n",
    "                    if doDTW:\n",
    "                        x_temp = np.hstack((data['hand_pos_aligned'][0:endpt:stepsize], data['hand_rot_aligned'][0:endpt:stepsize]))\n",
    "                        y_temp = data['joint_data_aligned'][0:endpt:stepsize]\n",
    "                    else: # Load non-DTW-aligned data\n",
    "                        x_temp = data['hand_data'][0:endpt+initialtruncate:stepsize,1:7]\n",
    "                        y_temp = data['joint_data_aligned'][0:endpt:stepsize]\n",
    "\n",
    "                    x = np.vstack((x,x_temp))\n",
    "                    y = np.vstack((y,y_temp))\n",
    "\n",
    "    # Strip unnecessary starting row of zeros from x and y\n",
    "    x = x[1:-1]\n",
    "    y = y[1:-1]\n",
    "    \n",
    "    return x, y"
   ]
  },
  {
   "cell_type": "code",
   "execution_count": 13,
   "metadata": {
    "colab": {
     "base_uri": "https://localhost:8080/",
     "height": 368
    },
    "id": "jZBlfzxzH8Ld",
    "outputId": "f77b1744-c75e-4a5e-b1de-4fa1cf30ce43"
   },
   "outputs": [],
   "source": [
    "def test_set(set_num, runskipval, doDTW):\n",
    "#     set_num=setskipval\n",
    "#     run=runskipval\n",
    "    # data = np.load(\"../NonAnthroHands_User_Study/data/positions/positions_\"+str(set_num)+\"_data/DTW_processed_data/data_\"+str(set_num)+\"_\"+str(run)+\".npz\")\n",
    "    data_test = np.load(\"..\\\\NonAnthroHands_User_Study\\\\data\\\\positions\\\\positions_\"+str(set_num)+\"_data\\\\DTW_processed_data\\\\data_\"+str(set_num)+\"_\"+str(runskipval)+\".npz\")\n",
    "    if doDTW:\n",
    "        x_star = np.hstack((data_test['hand_pos_aligned'][0:endpt:stepsize], data_test['hand_rot_aligned'][0:endpt:stepsize]))\n",
    "        y_test = data_test['joint_data_aligned'][0:endpt:stepsize]\n",
    "    else:\n",
    "        x_star = data_test['hand_data'][0:endpt+initialtruncate:stepsize,1:7]\n",
    "        y_test = data_test['joint_data_aligned'][0:endpt:stepsize]\n",
    "    \n",
    "    return x_star, y_test"
   ]
  },
  {
   "cell_type": "code",
   "execution_count": 15,
   "metadata": {
    "colab": {
     "base_uri": "https://localhost:8080/",
     "height": 478
    },
    "id": "JNZwfFi2H8Le",
    "outputId": "139be245-26c4-4af0-e22f-3532e7b64e9b"
   },
   "outputs": [],
   "source": [
    "def GPR_joint_prediction(alphaval, x, y, x_star, joint):# Construction of Sklearn's Regression and Selection of the Kernel\n",
    "    kernel = RBF(1,(1e-2,1e4)) # + WhiteKernel(noise_level=1, noise_level_bounds=(1e-5, 1e2))   #Good length scale limits seem to lower bound at 0.1, 0.5, or 1.0\n",
    "    \n",
    "    gp_regressor = GaussianProcessRegressor(kernel=kernel, alpha=alphaval, normalize_y=True)\n",
    "#     gp_regressorJ1 = GaussianProcessRegressor(kernel=kernel, alpha=alphaval, normalize_y=True)\n",
    "#     gp_regressorJ2 = GaussianProcessRegressor(kernel=kernel, alpha=alphaval, normalize_y=True)\n",
    "#     gp_regressorJ3 = GaussianProcessRegressor(kernel=kernel, alpha=alphaval, normalize_y=True)\n",
    "#     gp_regressorJ4 = GaussianProcessRegressor(kernel=kernel, alpha=alphaval, normalize_y=True)\n",
    "#     gp_regressorJ5 = GaussianProcessRegressor(kernel=kernel, alpha=alphaval, normalize_y=True)\n",
    "#     gp_regressorJ6 = GaussianProcessRegressor(kernel=kernel, alpha=alphaval, normalize_y=True)\n",
    "\n",
    "    gp_regressor.fit(x,y[:,joint])\n",
    "#     gp_regressorJ1.fit(x,y[:,0])\n",
    "#     gp_regressorJ2.fit(x,y[:,1])\n",
    "#     gp_regressorJ3.fit(x,y[:,2])\n",
    "#     gp_regressorJ4.fit(x,y[:,3])\n",
    "#     gp_regressorJ5.fit(x,y[:,4])\n",
    "#     gp_regressorJ6.fit(x,y[:,5])\n",
    "\n",
    "    print(f\"RBF Lengthscale: {gp_regressor.kernel_}\")\n",
    "#     print(f\"RBF Lengthscale: {gp_regressorJ1.kernel_}\")\n",
    "#     print(f\"RBF Lengthscale: {gp_regressorJ2.kernel_}\")\n",
    "#     print(f\"RBF Lengthscale: {gp_regressorJ3.kernel_}\")\n",
    "#     print(f\"RBF Lengthscale: {gp_regressorJ4.kernel_}\")\n",
    "#     print(f\"RBF Lengthscale: {gp_regressorJ5.kernel_}\")\n",
    "#     print(f\"RBF Lengthscale: {gp_regressorJ6.kernel_}\")\n",
    "\n",
    "    J_pred_mean, J_pred_std = gp_regressor.predict(x_star, return_std=True)\n",
    "#     J1_pred_mean, J1_pred_std = gp_regressorJ1.predict(x_star, return_std=True)\n",
    "#     J2_pred_mean, J2_pred_std = gp_regressorJ2.predict(x_star, return_std=True)\n",
    "#     J3_pred_mean, J3_pred_std = gp_regressorJ3.predict(x_star, return_std=True)\n",
    "#     J4_pred_mean, J4_pred_std = gp_regressorJ4.predict(x_star, return_std=True)\n",
    "#     J5_pred_mean, J5_pred_std = gp_regressorJ5.predict(x_star, return_std=True)\n",
    "#     J6_pred_mean, J6_pred_std = gp_regressorJ6.predict(x_star, return_std=True)\n",
    "\n",
    "\n",
    "    # df = pd.DataFrame(y_pred_mean)\n",
    "    # df.to_csv('trained_endeff_mean.csv')\n",
    "    # df = pd.DataFrame(y_pred_std)\n",
    "    # df.to_csv('trained_endeff_std.csv')\n",
    "\n",
    "    return J_pred_mean, J_pred_std"
   ]
  },
  {
   "cell_type": "code",
   "execution_count": 37,
   "metadata": {},
   "outputs": [],
   "source": [
    "def plot_error(pred_vals, std_vals, y_test, setrange, runskipval, alphaval):\n",
    "    f = plt.figure(figsize=[17.0, 12.0])\n",
    "\n",
    "    ax = f.add_subplot(111)\n",
    "    # labels = ('X','Y','Z')\n",
    "    labels = ('Joint 1','Joint 2','Joint 3', 'Joint 4', 'Joint 5', 'Joint 6')\n",
    "    errorlabels = ('Two standard deviations')\n",
    "    it=0\n",
    "\n",
    "    # pred_vals = np.vstack((J1_pred_mean, J2_pred_mean, J3_pred_mean, J4_pred_mean, J5_pred_mean, J6_pred_mean)).T\n",
    "    # std_vals  = np.vstack((J1_pred_std , J2_pred_std , J3_pred_std , J4_pred_std , J5_pred_std , J6_pred_std )).T\n",
    "\n",
    "    print(pred_vals.shape)\n",
    "    print(std_vals.shape)\n",
    "\n",
    "    for i in range(0,6):\n",
    "        ax.plot(y_test[:,i],label='True '+labels[i]+' angle')\n",
    "\n",
    "    for i in range(0,6):\n",
    "        ax.plot(pred_vals[:,i]) #,label='Pred Pos '+labels[i])\n",
    "    #     if i==3:\n",
    "    #         ax.plot(np.squeeze(y_pred_mean.T[i]) + y_pred_std, 'k--',label='One STD')\n",
    "    #     else:\n",
    "    #         ax.plot(np.squeeze(y_pred_mean.T[i]) + y_pred_std, 'k--')\n",
    "    #     ax.plot(np.squeeze(y_pred_mean.T[i]) - y_pred_std, 'k--')\n",
    "        plt.fill_between(\n",
    "            range(0,std_vals.shape[0]),\n",
    "            pred_vals[:,i] - 1.96 * std_vals[:,i],\n",
    "            pred_vals[:,i] + 1.96 * std_vals[:,i],\n",
    "            alpha=0.5,\n",
    "            label=r\"95% confidence interval for \"+ labels[i],\n",
    "        )\n",
    "\n",
    "    ax.set_xlabel('X');\n",
    "    ax.set_ylabel('Y');\n",
    "    ax.set_title('Predicted vs actual joint angles');\n",
    "    ax.legend();\n",
    "    plt.savefig('Error_Train'+str(setrange-1)+'_LeaveOneOut'+str(runskipval)+'_Alpha'+str(alphaval)+'.png')\n",
    "#     plt.show()\n",
    "    plt.close('all')"
   ]
  },
  {
   "cell_type": "code",
   "execution_count": 33,
   "metadata": {
    "id": "nCQUpKxNH_yn"
   },
   "outputs": [],
   "source": [
    "def save_error(std_vals, y_test, setrange, runskipval, alphaval):\n",
    "    numpts = (std_vals.shape[0]*std_vals.shape[1])\n",
    "    error_estimate = np.sum(std_vals)/numpts\n",
    "    print(error_estimate)\n",
    "    actual_error   = np.sum(np.abs(pred_vals-y_test))/numpts\n",
    "    print(actual_error)\n",
    "    np.savez('error_avg_for_Train'+str(setrange-1)+'_leaveoneout_'+str(runskipval)+'_alphaval_'+str(alphaval),error_estimate=error_estimate, actual_error=actual_error)"
   ]
  },
  {
   "cell_type": "code",
   "execution_count": 36,
   "metadata": {},
   "outputs": [],
   "source": [
    "def plot_prediction(pred_vals, std_vals, y_test, setrange, runskipval, alphaval, set_range):\n",
    "    # Plotting the Predicted Values\n",
    "    labels=('1-3','4-6')\n",
    "\n",
    "    # y_pred_mean, y_pred_std = gp_regressor.predict(x_star, return_std=True)\n",
    "\n",
    "    for i in range(2):\n",
    "        fig, ax = plt.subplots(figsize=(15, 10))\n",
    "\n",
    "        # Show the border and axes ticks\n",
    "        fig.patch.set_visible(True)\n",
    "        ax = plt.axes(projection='3d')\n",
    "        ax.axis('on')\n",
    "        ax.view_init(-140, 20)\n",
    "        ax.scatter(y_test[:].T[3*i+0]    , y_test[:].T[3*i+1]      , y_test[:].T[3*i+2],c='skyblue',label='Ground-truth')   #, c=time_hand_aligned/max(time_hand_aligned), cmap='Blues', label='Hand orientation')\n",
    "        ax.scatter(pred_vals[:].T[3*i+0], pred_vals[:].T[3*i+1], pred_vals[:].T[3*i+2],c='lightcoral',label='Predicted') #, c=time_URDF_aligned/max(time_URDF_aligned), cmap='Reds', label='End-effector orientation')\n",
    "        ax.scatter(pred_vals[:].T[3*i+0], pred_vals[:].T[3*i+1], pred_vals[:].T[3*i+2],c='lightcoral', alpha = 0.05, s=std_vals)\n",
    "        ax.legend()\n",
    "\n",
    "\n",
    "    # for [map_x, map_y] in warp_path: \n",
    "    #     ax.plot3D([y_pred_mean[map_x].T[3*i+0], y_test[map_y].T[3*i+0]], \\\n",
    "    #               [-y_pred_mean[map_x].T[3*i+2], -y_test[map_y].T[3*i+2]],\\\n",
    "    #               [y_pred_mean[map_x].T[3*i+1], y_test[map_y].T[3*i+1]], \\\n",
    "    #               '--k', linewidth=0.2)\n",
    "\n",
    "        ax.set_xlabel('Joint 1')\n",
    "        ax.set_ylabel('Joint 2')\n",
    "        ax.set_zlabel('Joint 3')\n",
    "        ax.set_title(\"Comparison of Expected and Actual Joint Angles for joints\"+labels[i], fontsize=10, fontweight=\"bold\")\n",
    "\n",
    "        plt.savefig('GPR_output_'+labels[i]+'Train'+str(setrange-1)+'_leaveoneout_alphaval_'+str(alphaval)+'_run_'+str(runskipval)+'.png')\n",
    "\n",
    "#         plt.show()\n",
    "        plt.close('all')"
   ]
  },
  {
   "cell_type": "code",
   "execution_count": null,
   "metadata": {},
   "outputs": [],
   "source": []
  },
  {
   "cell_type": "code",
   "execution_count": 96,
   "metadata": {},
   "outputs": [
    {
     "data": {
      "image/png": "[encoded data removed]",
      "text/plain": [
       "<Figure size 720x360 with 1 Axes>"
      ]
     },
     "metadata": {
      "needs_background": "light"
     },
     "output_type": "display_data"
    },
    {
     "data": {
      "text/plain": [
       "[<matplotlib.lines.Line2D at 0x1f93581f4c8>]"
      ]
     },
     "execution_count": 96,
     "metadata": {},
     "output_type": "execute_result"
    },
    {
     "data": {
      "image/png": "[encoded data removed]",
      "text/plain": [
       "<Figure size 720x360 with 1 Axes>"
      ]
     },
     "metadata": {
      "needs_background": "light"
     },
     "output_type": "display_data"
    }
   ],
   "source": [
    "f = plt.figure(figsize=[10.0, 5.0])\n",
    "ax = f.add_subplot(111)\n",
    "# ax = plt.axes(projection='3d')\n",
    "ax.plot(y_test[:,0])\n",
    "ax.plot(y_test[:,1])\n",
    "ax.plot(y_test[:,2])\n",
    "plt.show()\n",
    "f = plt.figure(figsize=[10.0, 5.0])\n",
    "ax = f.add_subplot(111)\n",
    "# ax = plt.axes(projection='3d')\n",
    "ax.plot(y_test[:,3])\n",
    "ax.plot(y_test[:,4])\n",
    "ax.plot(y_test[:,5])"
   ]
  },
  {
   "cell_type": "code",
   "execution_count": 170,
   "metadata": {},
   "outputs": [
    {
     "data": {
      "text/plain": [
       "array([[-0.03340571,  0.1388539 ,  0.8950191 ,  0.2791471 ,  0.3454185 ,\n",
       "         0.3521756 ],\n",
       "       [-0.03286659,  0.1417115 ,  0.8967065 ,  0.277593  ,  0.3469872 ,\n",
       "         0.3573287 ],\n",
       "       [-0.03218451,  0.1505411 ,  0.9000486 ,  0.2779443 ,  0.3468955 ,\n",
       "         0.3682205 ],\n",
       "       ...,\n",
       "       [-0.00434584,  0.08160348,  0.5780332 , -0.0833421 ,  0.9112371 ,\n",
       "        -0.2344575 ],\n",
       "       [ 0.00778877,  0.08214363,  0.5904323 , -0.1779695 ,  0.8701562 ,\n",
       "        -0.2652141 ],\n",
       "       [ 0.01709509,  0.0842046 ,  0.6038153 , -0.2655278 ,  0.8198322 ,\n",
       "        -0.277223  ]])"
      ]
     },
     "execution_count": 170,
     "metadata": {},
     "output_type": "execute_result"
    }
   ],
   "source": []
  },
  {
   "cell_type": "code",
   "execution_count": null,
   "metadata": {},
   "outputs": [],
   "source": []
  }
 ],
 "metadata": {
  "colab": {
   "collapsed_sections": [],
   "name": "GPR_Examples.ipynb",
   "provenance": []
  },
  "kernelspec": {
   "display_name": "Python 3",
   "language": "python",
   "name": "python3"
  },
  "language_info": {
   "codemirror_mode": {
    "name": "ipython",
    "version": 3
   },
   "file_extension": ".py",
   "mimetype": "text/x-python",
   "name": "python",
   "nbconvert_exporter": "python",
   "pygments_lexer": "ipython3",
   "version": "3.7.4"
  }
 },
 "nbformat": 4,
 "nbformat_minor": 4
}
