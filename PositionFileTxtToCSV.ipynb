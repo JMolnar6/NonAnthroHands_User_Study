{
 "cells": [
  {
   "cell_type": "code",
   "execution_count": 63,
   "metadata": {},
   "outputs": [],
   "source": [
    "import pandas as pd\n",
    "import os\n",
    "import numpy as np"
   ]
  },
  {
   "cell_type": "code",
   "execution_count": 63,
   "metadata": {},
   "outputs": [
    {
     "name": "stdout",
     "output_type": "stream",
     "text": [
      "1DOF_arm_yaw.txt\n",
      "1DOF_elbow_pitch.txt\n",
      "1DOF_forearm_yaw.txt\n",
      "1DOF_shoulder_pitch.txt\n",
      "1DOF_shoulder_roll.txt\n",
      "1DOF_wrist_pitch.txt\n",
      "bring_cup_to_stomach.txt\n",
      "get_ready_to_push.txt\n",
      "get_ready_to_push_left.txt\n",
      "get_ready_to_push_right.txt\n",
      "point_across_B.txt\n",
      "point_down_right_B.txt\n",
      "point_forward_A.txt\n",
      "point_forward_B.txt\n",
      "point_right_B.txt\n",
      "push_forward.txt\n",
      "push_left.txt\n",
      "push_right.txt\n",
      "put_down_cup_from_toast.txt\n",
      "raise_hand.txt\n",
      "raise_to_salute.txt\n",
      "raise_to_square.txt\n",
      "raise_to_toast.txt\n",
      "right_extend_to_point_A.txt\n",
      "swing_right_to_point.txt\n",
      "wave_part_1.txt\n",
      "wave_part_2.txt\n"
     ]
    }
   ],
   "source": [
    "folderpath = \"C:\\\\Users\\\\jmoln\\\\Documents\\\\Projects\\\\HandsLoggerWithURDF\\\\HandsLoggerWithURDF\\\\Assets\\\\URDF\\\\reachy_description\\\\gestures\\\\\"\n",
    "#folderpath = \"C:\\\\Users\\\\jmoln\\\\Documents\\\\Projects\\\\HandsLoggerWithURDF\\\\HandsLoggerWithURDF\\\\Assets\\\\URDF\\\\kinova_description\\\\gestures\\\\\"\n",
    "dir_list = os.listdir(folderpath)\n",
    "\n",
    "for text_file in dir_list:\n",
    "    if (text_file=='CMakeLists.txt'):\n",
    "        continue\n",
    "    if (text_file[0:3]=='new'):\n",
    "        continue\n",
    "    if (text_file[-5:]==\".meta\"):\n",
    "        continue\n",
    "    else:\n",
    "        positions = np.loadtxt(folderpath+text_file,delimiter ='[',dtype=str)\n",
    "        #print(positions)\n",
    "        print(text_file)\n",
    "        np.savetxt(folderpath+'new'+text_file,positions[:,1],fmt='%s')\n",
    "        positions = np.loadtxt(folderpath+'new'+text_file,delimiter = ']',dtype=str)\n",
    "        np.savetxt(folderpath+'new'+text_file,positions[:,0],fmt='%s')\n",
    "        positions = np.loadtxt(folderpath+'new'+text_file,delimiter = ',',dtype=str)\n",
    "        filenamecsv = text_file[0:-4]\n",
    "        #print(filenamecsv)\n",
    "        np.savetxt(folderpath+'new'+filenamecsv+'.csv',positions,delimiter=',',fmt='%s')\n",
    "        if os.path.exists(folderpath+'new'+text_file):\n",
    "            os.remove(folderpath+'new'+text_file)\n",
    "        else:\n",
    "            print(\"The file does not exist\") \n",
    "        \n",
    "        #print(positions)\n",
    "    \n",
    "# Import data from csvs\n",
    "#positions = pd.read_csv(filename)"
   ]
  },
  {
   "cell_type": "code",
   "execution_count": 61,
   "metadata": {},
   "outputs": [
    {
     "data": {
      "text/plain": [
       "'.meta'"
      ]
     },
     "execution_count": 61,
     "metadata": {},
     "output_type": "execute_result"
    }
   ],
   "source": [
    "text_file[-5:]"
   ]
  },
  {
   "cell_type": "code",
   "execution_count": null,
   "metadata": {},
   "outputs": [],
   "source": []
  }
 ],
 "metadata": {
  "kernelspec": {
   "display_name": "Python 3",
   "language": "python",
   "name": "python3"
  },
  "language_info": {
   "codemirror_mode": {
    "name": "ipython",
    "version": 3
   },
   "file_extension": ".py",
   "mimetype": "text/x-python",
   "name": "python",
   "nbconvert_exporter": "python",
   "pygments_lexer": "ipython3",
   "version": "3.7.4"
  }
 },
 "nbformat": 4,
 "nbformat_minor": 4
}
