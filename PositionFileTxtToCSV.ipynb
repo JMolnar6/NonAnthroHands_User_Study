{
 "cells": [
  {
   "cell_type": "code",
   "execution_count": 1,
   "metadata": {},
   "outputs": [],
   "source": [
    "import pandas as pd\n",
    "import os\n",
    "import numpy as np"
   ]
  },
  {
   "cell_type": "code",
   "execution_count": 24,
   "metadata": {},
   "outputs": [
    {
     "name": "stdout",
     "output_type": "stream",
     "text": [
      "reachy_1DOF_armrotateA.txt\n",
      "reachy_1DOF_armrotateB.txt\n",
      "reachy_1DOF_armsideA.txt\n",
      "reachy_1DOF_armsideB.txt\n",
      "reachy_1DOF_armup.txt\n",
      "reachy_1DOF_armupA.txt\n",
      "reachy_1DOF_armupB.txt\n",
      "reachy_1DOF_elbowbendA.txt\n"
     ]
    },
    {
     "ename": "PermissionError",
     "evalue": "[Errno 13] Permission denied: 'C:\\\\Users\\\\jmoln\\\\Documents\\\\Projects\\\\NonAnthroHands_User_Study\\\\data\\\\gestures\\\\reachy_gestures\\\\newreachy_1DOF_elbowbendA.csv'",
     "output_type": "error",
     "traceback": [
      "\u001b[1;31m---------------------------------------------------------------------------\u001b[0m",
      "\u001b[1;31mPermissionError\u001b[0m                           Traceback (most recent call last)",
      "Cell \u001b[1;32mIn[24], line 25\u001b[0m\n\u001b[0;32m     23\u001b[0m filenamecsv \u001b[38;5;241m=\u001b[39m text_file[\u001b[38;5;241m0\u001b[39m:\u001b[38;5;241m-\u001b[39m\u001b[38;5;241m4\u001b[39m]\n\u001b[0;32m     24\u001b[0m \u001b[38;5;66;03m#print(filenamecsv)\u001b[39;00m\n\u001b[1;32m---> 25\u001b[0m np\u001b[38;5;241m.\u001b[39msavetxt(folderpath\u001b[38;5;241m+\u001b[39m\u001b[38;5;124m'\u001b[39m\u001b[38;5;124mnew\u001b[39m\u001b[38;5;124m'\u001b[39m\u001b[38;5;241m+\u001b[39mfilenamecsv\u001b[38;5;241m+\u001b[39m\u001b[38;5;124m'\u001b[39m\u001b[38;5;124m.csv\u001b[39m\u001b[38;5;124m'\u001b[39m,positions,delimiter\u001b[38;5;241m=\u001b[39m\u001b[38;5;124m'\u001b[39m\u001b[38;5;124m,\u001b[39m\u001b[38;5;124m'\u001b[39m,fmt\u001b[38;5;241m=\u001b[39m\u001b[38;5;124m'\u001b[39m\u001b[38;5;132;01m%s\u001b[39;00m\u001b[38;5;124m'\u001b[39m)\n\u001b[0;32m     26\u001b[0m \u001b[38;5;28;01mif\u001b[39;00m os\u001b[38;5;241m.\u001b[39mpath\u001b[38;5;241m.\u001b[39mexists(folderpath\u001b[38;5;241m+\u001b[39m\u001b[38;5;124m'\u001b[39m\u001b[38;5;124mnew\u001b[39m\u001b[38;5;124m'\u001b[39m\u001b[38;5;241m+\u001b[39mtext_file):\n\u001b[0;32m     27\u001b[0m     os\u001b[38;5;241m.\u001b[39mremove(folderpath\u001b[38;5;241m+\u001b[39m\u001b[38;5;124m'\u001b[39m\u001b[38;5;124mnew\u001b[39m\u001b[38;5;124m'\u001b[39m\u001b[38;5;241m+\u001b[39mtext_file)\n",
      "File \u001b[1;32m<__array_function__ internals>:200\u001b[0m, in \u001b[0;36msavetxt\u001b[1;34m(*args, **kwargs)\u001b[0m\n",
      "File \u001b[1;32m~\\anaconda3\\Lib\\site-packages\\numpy\\lib\\npyio.py:1541\u001b[0m, in \u001b[0;36msavetxt\u001b[1;34m(fname, X, fmt, delimiter, newline, header, footer, comments, encoding)\u001b[0m\n\u001b[0;32m   1538\u001b[0m     fname \u001b[38;5;241m=\u001b[39m os_fspath(fname)\n\u001b[0;32m   1539\u001b[0m \u001b[38;5;28;01mif\u001b[39;00m _is_string_like(fname):\n\u001b[0;32m   1540\u001b[0m     \u001b[38;5;66;03m# datasource doesn't support creating a new file ...\u001b[39;00m\n\u001b[1;32m-> 1541\u001b[0m     \u001b[38;5;28mopen\u001b[39m(fname, \u001b[38;5;124m'\u001b[39m\u001b[38;5;124mwt\u001b[39m\u001b[38;5;124m'\u001b[39m)\u001b[38;5;241m.\u001b[39mclose()\n\u001b[0;32m   1542\u001b[0m     fh \u001b[38;5;241m=\u001b[39m np\u001b[38;5;241m.\u001b[39mlib\u001b[38;5;241m.\u001b[39m_datasource\u001b[38;5;241m.\u001b[39mopen(fname, \u001b[38;5;124m'\u001b[39m\u001b[38;5;124mwt\u001b[39m\u001b[38;5;124m'\u001b[39m, encoding\u001b[38;5;241m=\u001b[39mencoding)\n\u001b[0;32m   1543\u001b[0m     own_fh \u001b[38;5;241m=\u001b[39m \u001b[38;5;28;01mTrue\u001b[39;00m\n",
      "\u001b[1;31mPermissionError\u001b[0m: [Errno 13] Permission denied: 'C:\\\\Users\\\\jmoln\\\\Documents\\\\Projects\\\\NonAnthroHands_User_Study\\\\data\\\\gestures\\\\reachy_gestures\\\\newreachy_1DOF_elbowbendA.csv'"
     ]
    }
   ],
   "source": [
    "# folderpath = \"C:\\\\Users\\\\jmoln\\\\Documents\\\\Projects\\\\HandsLoggerWithURDF\\\\HandsLoggerWithURDF\\\\Assets\\\\URDF\\\\reachy_description\\\\gestures\\\\\"\n",
    "#folderpath = \"C:\\\\Users\\\\jmoln\\\\Documents\\\\Projects\\\\HandsLoggerWithURDF\\\\HandsLoggerWithURDF\\\\Assets\\\\URDF\\\\kinova_description\\\\gestures\\\\\"\n",
    "folderpath = \"C:\\\\Users\\\\jmoln\\\\Documents\\\\Projects\\\\NonAnthroHands_User_Study\\\\data\\\\gestures\\\\reachy_gestures\\\\\"\n",
    "dir_list = os.listdir(folderpath)\n",
    "\n",
    "for text_file in dir_list:\n",
    "    if (text_file=='CMakeLists.txt'):\n",
    "        continue\n",
    "    # if (text_file[0:3]=='new'):\n",
    "    #     continue\n",
    "    # if (text_file[-5:]==\".meta\"):\n",
    "    #     continue\n",
    "    if (text_file[-4:]==\".txt\"):\n",
    "        # continue\n",
    "    # else:\n",
    "        positions = np.loadtxt(folderpath+text_file,delimiter ='[',dtype=str)\n",
    "        #print(positions)\n",
    "        print(text_file)\n",
    "        np.savetxt(folderpath+'new'+text_file,positions[:,1],fmt='%s')\n",
    "        positions = np.loadtxt(folderpath+'new'+text_file,delimiter = ']',dtype=str)\n",
    "        np.savetxt(folderpath+'new'+text_file,positions[:,0],fmt='%s')\n",
    "        positions = np.loadtxt(folderpath+'new'+text_file,delimiter = ',',dtype=str)\n",
    "        filenamecsv = text_file[0:-4]\n",
    "        #print(filenamecsv)\n",
    "        np.savetxt(folderpath+'new'+filenamecsv+'.csv',positions,delimiter=',',fmt='%s')\n",
    "        if os.path.exists(folderpath+'new'+text_file):\n",
    "            os.remove(folderpath+'new'+text_file)\n",
    "        else:\n",
    "            print(\"The file does not exist\") \n",
    "        \n",
    "        #print(positions)\n",
    "    \n",
    "# Import data from csvs\n",
    "#positions = pd.read_csv(filename)"
   ]
  },
  {
   "cell_type": "code",
   "execution_count": 61,
   "metadata": {},
   "outputs": [
    {
     "data": {
      "text/plain": [
       "'.meta'"
      ]
     },
     "execution_count": 61,
     "metadata": {},
     "output_type": "execute_result"
    }
   ],
   "source": [
    "text_file[-5:]"
   ]
  },
  {
   "cell_type": "code",
   "execution_count": 20,
   "metadata": {},
   "outputs": [
    {
     "data": {
      "text/plain": [
       "['Experimental Gesture Set',\n",
       " 'j2s6s300_corrected_positions_1.csv',\n",
       " 'j2s6s300_corrected_positions_10.csv',\n",
       " 'j2s6s300_corrected_positions_11.csv',\n",
       " 'j2s6s300_corrected_positions_12.csv',\n",
       " 'j2s6s300_corrected_positions_13.csv',\n",
       " 'j2s6s300_corrected_positions_14.csv',\n",
       " 'j2s6s300_corrected_positions_15.csv',\n",
       " 'j2s6s300_corrected_positions_16.csv',\n",
       " 'j2s6s300_corrected_positions_17.csv',\n",
       " 'j2s6s300_corrected_positions_18.csv',\n",
       " 'j2s6s300_corrected_positions_19.csv',\n",
       " 'j2s6s300_corrected_positions_2.csv',\n",
       " 'j2s6s300_corrected_positions_20.csv',\n",
       " 'j2s6s300_corrected_positions_21.csv',\n",
       " 'j2s6s300_corrected_positions_3.csv',\n",
       " 'j2s6s300_corrected_positions_4.csv',\n",
       " 'j2s6s300_corrected_positions_5.csv',\n",
       " 'j2s6s300_corrected_positions_6.csv',\n",
       " 'j2s6s300_corrected_positions_7.csv',\n",
       " 'j2s6s300_corrected_positions_8.csv',\n",
       " 'j2s6s300_corrected_positions_9.csv',\n",
       " 'jaco_1DOF_link1.txt',\n",
       " 'jaco_1DOF_link2.txt',\n",
       " 'jaco_1DOF_link3.txt',\n",
       " 'jaco_1DOF_link4Arev.txt',\n",
       " 'jaco_1DOF_link4B.txt',\n",
       " 'jaco_1DOF_link5.txt',\n",
       " 'jaco_1DOF_link6.txt',\n",
       " 'jaco_elbowinvert.txt',\n",
       " 'jaco_push_backleft.txt',\n",
       " 'jaco_push_back_push1.txt',\n",
       " 'jaco_push_back_setup1.txt',\n",
       " 'jaco_push_back_setup2.txt',\n",
       " 'jaco_push_forward.txt',\n",
       " 'jaco_push_forwardprepA.txt',\n",
       " 'jaco_push_forwardprepB.txt',\n",
       " 'jaco_push_right.txt',\n",
       " 'jaco_push_rightprep.txt',\n",
       " 'jaco_reachdown.txt',\n",
       " 'jaco_reachdown_overwall.txt',\n",
       " 'jaco_reachfwd.txt',\n",
       " 'jaco_reachleftA.txt',\n",
       " 'jaco_reachleftB.txt',\n",
       " 'jaco_reachleft_aroundwall.txt',\n",
       " 'jaco_reachleft_overwall.txt',\n",
       " 'jaco_reachright.txt',\n",
       " 'jaco_reachright_aroundwall.txt',\n",
       " 'jaco_reachright_overwall.txt',\n",
       " 'jaco_reachup.txt',\n",
       " 'jaco_reachup_underwall.txt',\n",
       " 'jaco_wave2A.txt',\n",
       " 'jaco_wave2B.txt',\n",
       " 'jaco_waveA.txt',\n",
       " 'jaco_waveB.txt',\n",
       " 'Key joint values.xlsx',\n",
       " 'newjaco_1DOF_link1.csv',\n",
       " 'newjaco_1DOF_link2.csv',\n",
       " 'newjaco_1DOF_link3.csv',\n",
       " 'newjaco_1DOF_link4.csv',\n",
       " 'newjaco_1DOF_link4Arev.csv',\n",
       " 'newjaco_1DOF_link4B.csv',\n",
       " 'newjaco_1DOF_link5.csv',\n",
       " 'newjaco_1DOF_link6.csv',\n",
       " 'newjaco_elbowinvert.csv',\n",
       " 'newjaco_push_backleft.csv',\n",
       " 'newjaco_push_back_push1.csv',\n",
       " 'newjaco_push_back_setup1.csv',\n",
       " 'newjaco_push_back_setup2.csv',\n",
       " 'newjaco_push_forward.csv',\n",
       " 'newjaco_push_forwardprepA.csv',\n",
       " 'newjaco_push_forwardprepB.csv',\n",
       " 'newjaco_push_right.csv',\n",
       " 'newjaco_push_rightprep.csv',\n",
       " 'newjaco_reachdown.csv',\n",
       " 'newjaco_reachdown_overwall.csv',\n",
       " 'newjaco_reachfwd.csv',\n",
       " 'newjaco_reachleftA.csv',\n",
       " 'newjaco_reachleftB.csv',\n",
       " 'newjaco_reachleft_aroundwall.csv',\n",
       " 'newjaco_reachleft_overwall.csv',\n",
       " 'newjaco_reachright.csv',\n",
       " 'newjaco_reachright_aroundwall.csv',\n",
       " 'newjaco_reachright_overwall.csv',\n",
       " 'newjaco_reachup.csv',\n",
       " 'newjaco_reachup_underwall.csv',\n",
       " 'newjaco_waveA.csv',\n",
       " 'newjaco_waveB.csv',\n",
       " 'Polished Gestures',\n",
       " '~$Key joint values.xlsx']"
      ]
     },
     "execution_count": 20,
     "metadata": {},
     "output_type": "execute_result"
    }
   ],
   "source": [
    "os.listdir(folderpath)"
   ]
  },
  {
   "cell_type": "code",
   "execution_count": null,
   "metadata": {},
   "outputs": [],
   "source": []
  }
 ],
 "metadata": {
  "kernelspec": {
   "display_name": "Python 3 (ipykernel)",
   "language": "python",
   "name": "python3"
  },
  "language_info": {
   "codemirror_mode": {
    "name": "ipython",
    "version": 3
   },
   "file_extension": ".py",
   "mimetype": "text/x-python",
   "name": "python",
   "nbconvert_exporter": "python",
   "pygments_lexer": "ipython3",
   "version": "3.11.3"
  }
 },
 "nbformat": 4,
 "nbformat_minor": 4
}
