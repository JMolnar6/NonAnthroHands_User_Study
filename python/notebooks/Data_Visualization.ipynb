{
 "cells": [
  {
   "cell_type": "code",
   "execution_count": 1,
   "metadata": {},
   "outputs": [],
   "source": [
    "import pandas as pd\n",
    "import os\n",
    "import numpy as np\n",
    "\n",
    "import matplotlib.pyplot as plt\n",
    "from mpl_toolkits import mplot3d\n",
    "from matplotlib import cm"
   ]
  },
  {
   "cell_type": "code",
   "execution_count": 113,
   "metadata": {},
   "outputs": [
    {
     "data": {
      "image/png": "[encoded data removed]",
      "text/plain": [
       "<Figure size 1400x1200 with 1 Axes>"
      ]
     },
     "metadata": {},
     "output_type": "display_data"
    }
   ],
   "source": [
    "# folderpath = \"C:\\\\Users\\\\jmoln\\\\Documents\\\\Projects\\\\HandsLoggerWithURDF\\\\HandsLoggerWithURDF\\\\Assets\\\\URDF\\\\reachy_description\\\\gestures\\\\\"\n",
    "#folderpath = \"C:\\\\Users\\\\jmoln\\\\Documents\\\\Projects\\\\HandsLoggerWithURDF\\\\HandsLoggerWithURDF\\\\Assets\\\\URDF\\\\kinova_description\\\\gestures\\\\\"\n",
    "folderpath = \"C:\\\\Users\\\\jmoln\\\\Dropbox (GaTech)\\\\Non-Anthropomorphic Hands User Study Data\\\\\"\n",
    "\n",
    "pid = 13\n",
    "\n",
    "robot = (\"Reachy\", \"j2s6s300\")\n",
    "\n",
    "jaco_data_file = (\"j2s6s300_end_effector_Motion\",\"JointMotion\",\"Main Camera_Motion\",\"RightHand Controller_Motion\",\"LeftHand Controller_Motion\")\n",
    "\n",
    "filepath_endeff = folderpath + \"PID\" + str(pid) + \"\\\\\" + robot[1]+\"_PID\"+str(pid)+\"_\"+jaco_data_file[0]\n",
    "filepath_joints = folderpath + \"PID\" + str(pid) + \"\\\\\" + robot[1]+\"_PID\"+str(pid)+\"_\"+jaco_data_file[1]\n",
    "filepath_camera = folderpath + \"PID\" + str(pid) + \"\\\\\" + robot[1]+\"_PID\"+str(pid)+\"_\"+jaco_data_file[2]\n",
    "filepath_rh     = folderpath + \"PID\" + str(pid) + \"\\\\\" + robot[1]+\"_PID\"+str(pid)+\"_\"+jaco_data_file[3]\n",
    "filepath_lh     = folderpath + \"PID\" + str(pid) + \"\\\\\" + robot[1]+\"_PID\"+str(pid)+\"_\"+jaco_data_file[4]\n",
    "\n",
    "\n",
    "for gest_num in range(1,2): #Just one gesture for now\n",
    "    demo_num = 1\n",
    "    \n",
    "    fig, ax = plt.subplots(figsize=(15, 10))\n",
    "    # Show the border and axes ticks\n",
    "    fig.patch.set_visible(True)\n",
    "    ax = plt.axes(projection='3d')\n",
    "    ax.axis('on')\n",
    "    ax.tick_params(axis='x', labelsize=10)\n",
    "    ax.tick_params(axis='y', labelsize=10)\n",
    "    ax.tick_params(axis='z', labelsize=10)\n",
    "    # ax.view_init(-140, 20)\n",
    "\n",
    "    endeff_pos = np.loadtxt(filepath_endeff+\"_gesture_\"+str(gest_num)+\"_\"+str(demo_num)+\".csv\",delimiter =',',dtype=str)\n",
    "    joints_pos = np.loadtxt(filepath_joints+\"_gesture_\"+str(gest_num)+\"_\"+str(demo_num)+\".csv\",delimiter =',',dtype=str,usecols=(0,1,2,3,4,5,6))\n",
    "    camera_pos = np.loadtxt(filepath_camera+\"_gesture_\"+str(gest_num)+\"_\"+str(demo_num)+\".csv\",delimiter =',',dtype=str)\n",
    "    rh_pos     = np.loadtxt(filepath_rh    +\"_gesture_\"+str(gest_num)+\"_\"+str(demo_num)+\".csv\",delimiter =',',dtype=str)\n",
    "    lh_pos     = np.loadtxt(filepath_lh    +\"_gesture_\"+str(gest_num)+\"_\"+str(demo_num)+\".csv\",delimiter =',',dtype=str)\n",
    "    \n",
    "    endeff_pos = endeff_pos[1:].astype(float)\n",
    "    joints_pos = joints_pos[1:].astype(float)\n",
    "    camera_pos = camera_pos[1:].astype(float)\n",
    "    rh_pos = lh_pos[1:].astype(float)\n",
    "    lh_pos = lh_pos[1:].astype(float)\n",
    "    \n",
    "    \n",
    "    \n",
    "    for demo_num in range(2,6): #want to make this go up to the max number that are saved\n",
    "        endeff_pos_temp = np.loadtxt(filepath_endeff+\"_gesture_\"+str(gest_num)+\"_\"+str(demo_num)+\".csv\",delimiter =',',dtype=str)\n",
    "        joints_pos_temp = np.loadtxt(filepath_joints+\"_gesture_\"+str(gest_num)+\"_\"+str(demo_num)+\".csv\",delimiter =',',dtype=str,usecols=(0,1,2,3,4,5,6))\n",
    "        camera_pos_temp = np.loadtxt(filepath_camera+\"_gesture_\"+str(gest_num)+\"_\"+str(demo_num)+\".csv\",delimiter =',',dtype=str)\n",
    "        rh_pos_temp     = np.loadtxt(filepath_rh    +\"_gesture_\"+str(gest_num)+\"_\"+str(demo_num)+\".csv\",delimiter =',',dtype=str)\n",
    "        lh_pos_temp     = np.loadtxt(filepath_lh    +\"_gesture_\"+str(gest_num)+\"_\"+str(demo_num)+\".csv\",delimiter =',',dtype=str)\n",
    "        \n",
    "        endeff_pos_temp = endeff_pos_temp[1:].astype(float)\n",
    "        joints_pos_temp = joints_pos_temp[1:].astype(float)\n",
    "        camera_pos_temp = camera_pos_temp[1:].astype(float)\n",
    "        rh_pos_temp     = rh_pos_temp[1:].astype(float)\n",
    "        lh_pos_temp     = lh_pos_temp[1:].astype(float)\n",
    "        \n",
    "        ax.scatter(y_test[:].T[3*i+0]   , y_test[:].T[3*i+2]   , y_test[:].T[3*i+1],c='skyblue',label='Ground-truth')   #, c=time_hand_aligned/max(time_hand_aligned), cmap='Blues', label='Hand orientation')\n",
    "        ax.scatter(pred_vals[:].T[3*i+0], pred_vals[:].T[3*i+2], pred_vals[:].T[3*i+1],c='lightcoral',label='Predicted') #, c=time_URDF_aligned/max(time_URDF_aligned), cmap='Reds', label='End-effector orientation')\n",
    "        ax.scatter(pred_vals[:].T[3*i+0], pred_vals[:].T[3*i+2], pred_vals[:].T[3*i+1],c='lightcoral', alpha = 0.75, s=std_vals*2)\n",
    "        ax.legend(loc='lower right',fontsize=14)\n",
    "\n",
    "        \n",
    "        endeff_pos = endeff_pos,endeff_pos_temp\n",
    "        joints_pos = joints_pos,joints_pos_temp\n",
    "        camera_pos = camera_pos,camera_pos_temp\n",
    "        rh_pos     = rh_pos,    rh_pos_temp\n",
    "        lh_pos     = lh_pos,    lh_pos_temp\n",
    "        "
   ]
  },
  {
   "cell_type": "code",
   "execution_count": 4,
   "metadata": {},
   "outputs": [
    {
     "ename": "SyntaxError",
     "evalue": "unterminated string literal (detected at line 5) (1153533504.py, line 5)",
     "output_type": "error",
     "traceback": [
      "\u001b[1;36m  Cell \u001b[1;32mIn[4], line 5\u001b[1;36m\u001b[0m\n\u001b[1;33m    pid = \"PID 13\u001b[0m\n\u001b[1;37m          ^\u001b[0m\n\u001b[1;31mSyntaxError\u001b[0m\u001b[1;31m:\u001b[0m unterminated string literal (detected at line 5)\n"
     ]
    }
   ],
   "source": [
    "    print(camera_pos.size())\n",
    "    \n",
    "    f = plt.figure(figsize=[14.0, 12.0])\n",
    "\n",
    "    ax = f.add_subplot(111)\n",
    "    labels = ('X','Y','Z')\n",
    "    # labels = ('X Position','Y Position','Z Position', 'X Orientation', 'Y Orientation', 'Z Orientation')\n",
    "\n",
    "    for i in range(0,6):\n",
    "        ax.plot(y_test[:,i],'--',label='True '+labels[i]+' angle')\n",
    "\n",
    "    for i in range(0,6):\n",
    "        ax.plot(pred_vals[:,i]) #,label='Pred Pos '+labels[i])\n",
    "\n",
    "    for i in range(0,6):\n",
    "        plt.fill_between(\n",
    "            range(0,std_vals.shape[0]),\n",
    "            pred_vals[:,i] - 1.96 * std_vals[:,i],\n",
    "            pred_vals[:,i] + 1.96 * std_vals[:,i],\n",
    "            alpha=0.5,\n",
    "            label=r\"95% confidence interval for \"+ labels[i],\n",
    "        )\n",
    "\n",
    "    ax.set_xlabel('X');\n",
    "    ax.set_ylabel('Y');\n",
    "    ax.set_title('Predicted vs actual end-effector DOF');\n",
    "    ax.legend();"
   ]
  },
  {
   "cell_type": "code",
   "execution_count": 91,
   "metadata": {
    "tags": []
   },
   "outputs": [],
   "source": [
    "gest_num = 1\n",
    "demo_num = 1\n",
    "endeff_pos = np.loadtxt(filepath_endeff+\"_gesture_\"+str(gest_num)+\"_\"+str(demo_num)+\".csv\",delimiter =',',dtype=str)\n",
    "endeff_pos = endeff_pos[1:].astype(float)\n",
    "\n",
    "endeff_pos_temp = np.loadtxt(filepath_endeff+\"_gesture_\"+str(gest_num)+\"_\"+str(2)+\".csv\",delimiter =',',dtype=str)\n",
    "endeff_pos_temp = endeff_pos_temp[1:].astype(float)"
   ]
  },
  {
   "cell_type": "code",
   "execution_count": 109,
   "metadata": {
    "tags": []
   },
   "outputs": [
    {
     "data": {
      "text/plain": [
       "array([[79.63149  ,  0.2247187,  1.107292 , ..., -0.162317 , -0.9206547,\n",
       "         0.1336844],\n",
       "       [79.65202  ,  0.2242844,  1.107193 , ..., -0.1656667, -0.9196594,\n",
       "         0.1341557],\n",
       "       [79.65952  ,  0.2237748,  1.107178 , ..., -0.1676954, -0.9190744,\n",
       "         0.1338167],\n",
       "       ...,\n",
       "       [85.84253  ,  0.209549 ,  1.104653 , ..., -0.1241908, -0.9573436,\n",
       "         0.1803246],\n",
       "       [85.85642  ,  0.2091636,  1.105137 , ..., -0.1231393, -0.9578159,\n",
       "         0.1799888],\n",
       "       [85.87054  ,  0.2088656,  1.105556 , ..., -0.1229243, -0.9581962,\n",
       "         0.1795809]])"
      ]
     },
     "execution_count": 109,
     "metadata": {},
     "output_type": "execute_result"
    }
   ],
   "source": [
    "lh_pos[0][0][0][0]"
   ]
  },
  {
   "cell_type": "code",
   "execution_count": 95,
   "metadata": {
    "tags": []
   },
   "outputs": [
    {
     "data": {
      "text/plain": [
       "[array([[ 7.963149e+01, -6.400409e-02,  5.184398e-01, ...,  1.473858e-01,\n",
       "         -5.477748e-01,  8.226563e-01],\n",
       "        [ 7.965202e+01, -6.400390e-02,  5.184402e-01, ...,  1.473859e-01,\n",
       "         -5.477751e-01,  8.226562e-01],\n",
       "        [ 7.965952e+01, -6.400390e-02,  5.184402e-01, ...,  1.473859e-01,\n",
       "         -5.477751e-01,  8.226562e-01],\n",
       "        ...,\n",
       "        [ 8.584253e+01, -6.437243e-02,  5.138478e-01, ...,  1.472217e-01,\n",
       "         -5.451630e-01,  8.244686e-01],\n",
       "        [ 8.585642e+01, -6.437243e-02,  5.138478e-01, ...,  1.472217e-01,\n",
       "         -5.451630e-01,  8.244686e-01],\n",
       "        [ 8.587054e+01, -6.433574e-02,  5.136471e-01, ...,  1.471808e-01,\n",
       "         -5.450572e-01,  8.245471e-01]]),\n",
       " array([[ 9.283087e+01, -6.400328e-02,  5.184571e-01, ...,  1.473870e-01,\n",
       "         -5.477846e-01,  8.226497e-01],\n",
       "        [ 9.284489e+01, -6.400328e-02,  5.184571e-01, ...,  1.473870e-01,\n",
       "         -5.477846e-01,  8.226497e-01],\n",
       "        [ 9.285889e+01, -6.400328e-02,  5.184571e-01, ...,  1.473870e-01,\n",
       "         -5.477846e-01,  8.226497e-01],\n",
       "        ...,\n",
       "        [ 9.904192e+01, -6.433581e-02,  5.136456e-01, ...,  1.471809e-01,\n",
       "         -5.450565e-01,  8.245479e-01],\n",
       "        [ 9.905572e+01, -6.433581e-02,  5.136456e-01, ...,  1.471809e-01,\n",
       "         -5.450565e-01,  8.245479e-01],\n",
       "        [ 9.906898e+01, -6.430411e-02,  5.135484e-01, ...,  1.471504e-01,\n",
       "         -5.450089e-01,  8.245857e-01]])]"
      ]
     },
     "execution_count": 95,
     "metadata": {},
     "output_type": "execute_result"
    }
   ],
   "source": [
    "temp_array"
   ]
  },
  {
   "cell_type": "code",
   "execution_count": 3,
   "metadata": {},
   "outputs": [
    {
     "ename": "SyntaxError",
     "evalue": "unterminated string literal (detected at line 18) (3370397135.py, line 18)",
     "output_type": "error",
     "traceback": [
      "\u001b[1;36m  Cell \u001b[1;32mIn[3], line 18\u001b[1;36m\u001b[0m\n\u001b[1;33m    filepath_lh     = robot[1]+\"_\u001b[0m\n\u001b[1;37m                               ^\u001b[0m\n\u001b[1;31mSyntaxError\u001b[0m\u001b[1;31m:\u001b[0m unterminated string literal (detected at line 18)\n"
     ]
    }
   ],
   "source": [
    "dir_list = os.listdir(folderpath)\n",
    "\n",
    "for PID_folder in dir_list:\n",
    "    if (PID_folder=='Questionnaire'):\n",
    "        continue\n",
    "    # if (text_file[0:3]=='new'):\n",
    "    #     continue\n",
    "    # if (text_file[-5:]==\".meta\"):\n",
    "    #     continue\n",
    "    # if (text_file[-4:]==\".txt\"):\n",
    "    #     # continue\n",
    "    else:\n",
    "        \n",
    "        positions = np.loadtxt(folderpath+text_file,delimiter ='[',dtype=str)\n",
    "        #print(positions)\n",
    "        print(text_file)\n",
    "        np.savetxt(folderpath+'new'+text_file,positions[:,1],fmt='%s')\n",
    "        positions = np.loadtxt(folderpath+'new'+text_file,delimiter = ']',dtype=str)\n",
    "        np.savetxt(folderpath+'new'+text_file,positions[:,0],fmt='%s')\n",
    "        positions = np.loadtxt(folderpath+'new'+text_file,delimiter = ',',dtype=str)\n",
    "        filenamecsv = text_file[0:-4]\n",
    "        #print(filenamecsv)\n",
    "        np.savetxt(folderpath+'new'+filenamecsv+'.csv',positions,delimiter=',',fmt='%s')\n",
    "        if os.path.exists(folderpath+'new'+text_file):\n",
    "            os.remove(folderpath+'new'+text_file)\n",
    "        else:\n",
    "            print(\"The file does not exist\") \n",
    "        \n",
    "        #print(positions)\n",
    "    \n",
    "# Import data from csvs\n",
    "#positions = pd.read_csv(filename)"
   ]
  },
  {
   "cell_type": "code",
   "execution_count": null,
   "metadata": {},
   "outputs": [],
   "source": []
  },
  {
   "cell_type": "code",
   "execution_count": 61,
   "metadata": {},
   "outputs": [
    {
     "data": {
      "text/plain": [
       "'.meta'"
      ]
     },
     "execution_count": 61,
     "metadata": {},
     "output_type": "execute_result"
    }
   ],
   "source": [
    "text_file[-5:]"
   ]
  },
  {
   "cell_type": "code",
   "execution_count": 20,
   "metadata": {},
   "outputs": [
    {
     "data": {
      "text/plain": [
       "['Experimental Gesture Set',\n",
       " 'j2s6s300_corrected_positions_1.csv',\n",
       " 'j2s6s300_corrected_positions_10.csv',\n",
       " 'j2s6s300_corrected_positions_11.csv',\n",
       " 'j2s6s300_corrected_positions_12.csv',\n",
       " 'j2s6s300_corrected_positions_13.csv',\n",
       " 'j2s6s300_corrected_positions_14.csv',\n",
       " 'j2s6s300_corrected_positions_15.csv',\n",
       " 'j2s6s300_corrected_positions_16.csv',\n",
       " 'j2s6s300_corrected_positions_17.csv',\n",
       " 'j2s6s300_corrected_positions_18.csv',\n",
       " 'j2s6s300_corrected_positions_19.csv',\n",
       " 'j2s6s300_corrected_positions_2.csv',\n",
       " 'j2s6s300_corrected_positions_20.csv',\n",
       " 'j2s6s300_corrected_positions_21.csv',\n",
       " 'j2s6s300_corrected_positions_3.csv',\n",
       " 'j2s6s300_corrected_positions_4.csv',\n",
       " 'j2s6s300_corrected_positions_5.csv',\n",
       " 'j2s6s300_corrected_positions_6.csv',\n",
       " 'j2s6s300_corrected_positions_7.csv',\n",
       " 'j2s6s300_corrected_positions_8.csv',\n",
       " 'j2s6s300_corrected_positions_9.csv',\n",
       " 'jaco_1DOF_link1.txt',\n",
       " 'jaco_1DOF_link2.txt',\n",
       " 'jaco_1DOF_link3.txt',\n",
       " 'jaco_1DOF_link4Arev.txt',\n",
       " 'jaco_1DOF_link4B.txt',\n",
       " 'jaco_1DOF_link5.txt',\n",
       " 'jaco_1DOF_link6.txt',\n",
       " 'jaco_elbowinvert.txt',\n",
       " 'jaco_push_backleft.txt',\n",
       " 'jaco_push_back_push1.txt',\n",
       " 'jaco_push_back_setup1.txt',\n",
       " 'jaco_push_back_setup2.txt',\n",
       " 'jaco_push_forward.txt',\n",
       " 'jaco_push_forwardprepA.txt',\n",
       " 'jaco_push_forwardprepB.txt',\n",
       " 'jaco_push_right.txt',\n",
       " 'jaco_push_rightprep.txt',\n",
       " 'jaco_reachdown.txt',\n",
       " 'jaco_reachdown_overwall.txt',\n",
       " 'jaco_reachfwd.txt',\n",
       " 'jaco_reachleftA.txt',\n",
       " 'jaco_reachleftB.txt',\n",
       " 'jaco_reachleft_aroundwall.txt',\n",
       " 'jaco_reachleft_overwall.txt',\n",
       " 'jaco_reachright.txt',\n",
       " 'jaco_reachright_aroundwall.txt',\n",
       " 'jaco_reachright_overwall.txt',\n",
       " 'jaco_reachup.txt',\n",
       " 'jaco_reachup_underwall.txt',\n",
       " 'jaco_wave2A.txt',\n",
       " 'jaco_wave2B.txt',\n",
       " 'jaco_waveA.txt',\n",
       " 'jaco_waveB.txt',\n",
       " 'Key joint values.xlsx',\n",
       " 'newjaco_1DOF_link1.csv',\n",
       " 'newjaco_1DOF_link2.csv',\n",
       " 'newjaco_1DOF_link3.csv',\n",
       " 'newjaco_1DOF_link4.csv',\n",
       " 'newjaco_1DOF_link4Arev.csv',\n",
       " 'newjaco_1DOF_link4B.csv',\n",
       " 'newjaco_1DOF_link5.csv',\n",
       " 'newjaco_1DOF_link6.csv',\n",
       " 'newjaco_elbowinvert.csv',\n",
       " 'newjaco_push_backleft.csv',\n",
       " 'newjaco_push_back_push1.csv',\n",
       " 'newjaco_push_back_setup1.csv',\n",
       " 'newjaco_push_back_setup2.csv',\n",
       " 'newjaco_push_forward.csv',\n",
       " 'newjaco_push_forwardprepA.csv',\n",
       " 'newjaco_push_forwardprepB.csv',\n",
       " 'newjaco_push_right.csv',\n",
       " 'newjaco_push_rightprep.csv',\n",
       " 'newjaco_reachdown.csv',\n",
       " 'newjaco_reachdown_overwall.csv',\n",
       " 'newjaco_reachfwd.csv',\n",
       " 'newjaco_reachleftA.csv',\n",
       " 'newjaco_reachleftB.csv',\n",
       " 'newjaco_reachleft_aroundwall.csv',\n",
       " 'newjaco_reachleft_overwall.csv',\n",
       " 'newjaco_reachright.csv',\n",
       " 'newjaco_reachright_aroundwall.csv',\n",
       " 'newjaco_reachright_overwall.csv',\n",
       " 'newjaco_reachup.csv',\n",
       " 'newjaco_reachup_underwall.csv',\n",
       " 'newjaco_waveA.csv',\n",
       " 'newjaco_waveB.csv',\n",
       " 'Polished Gestures',\n",
       " '~$Key joint values.xlsx']"
      ]
     },
     "execution_count": 20,
     "metadata": {},
     "output_type": "execute_result"
    }
   ],
   "source": [
    "os.listdir(folderpath)"
   ]
  },
  {
   "cell_type": "code",
   "execution_count": null,
   "metadata": {},
   "outputs": [],
   "source": []
  }
 ],
 "metadata": {
  "kernelspec": {
   "display_name": "Python 3 (ipykernel)",
   "language": "python",
   "name": "python3"
  },
  "language_info": {
   "codemirror_mode": {
    "name": "ipython",
    "version": 3
   },
   "file_extension": ".py",
   "mimetype": "text/x-python",
   "name": "python",
   "nbconvert_exporter": "python",
   "pygments_lexer": "ipython3",
   "version": "3.11.3"
  }
 },
 "nbformat": 4,
 "nbformat_minor": 4
}
