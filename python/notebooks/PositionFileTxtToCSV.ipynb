{
 "cells": [
  {
   "cell_type": "code",
   "execution_count": 1,
   "metadata": {},
   "outputs": [],
   "source": [
    "import pandas as pd\n",
    "import os\n",
    "import numpy as np"
   ]
  },
  {
   "cell_type": "code",
   "execution_count": 5,
   "metadata": {},
   "outputs": [
    {
     "name": "stdout",
     "output_type": "stream",
     "text": [
      "reachy_1DOF_armrotateA.txt\n",
      "reachy_1DOF_armrotateB.txt\n",
      "reachy_1DOF_armsideA.txt\n",
      "reachy_1DOF_armsideB.txt\n",
      "reachy_1DOF_armup.txt\n",
      "reachy_1DOF_armupA.txt\n",
      "reachy_1DOF_armupB.txt\n",
      "reachy_1DOF_elbowbendA.txt\n",
      "reachy_1DOF_elbowbendB.txt\n",
      "reachy_1DOF_wristbendA.txt\n",
      "reachy_1DOF_wristbendB.txt\n",
      "reachy_1DOF_wristrotateA.txt\n",
      "reachy_1DOF_wristrotateB.txt\n",
      "reachy_pushback.txt\n",
      "reachy_pushbackprep.txt\n",
      "reachy_pushback_prep.txt\n",
      "reachy_pushfwd.txt\n",
      "reachy_pushfwd_prep.txt\n",
      "reachy_pushleft.txt\n",
      "reachy_pushleft_prep.txt\n",
      "reachy_pushright.txt\n",
      "reachy_pushrightprep.txt\n",
      "reachy_pushright_prep.txt\n",
      "reachy_reachdown.txt\n",
      "reachy_reachdown_overwall.txt\n",
      "reachy_reachfwdup.txt\n",
      "reachy_reachleftA.txt\n",
      "reachy_reachleftB.txt\n",
      "reachy_reachleft_aroundwall.txt\n",
      "reachy_reachrightB.txt\n",
      "reachy_reachright_overwall.txt\n",
      "reachy_reachright_underwall.txt\n",
      "reachy_reachupA.txt\n",
      "reachy_reachupB.txt\n",
      "reachy_reachup_underwall.txt\n",
      "reachy_waveA.txt\n",
      "reachy_waveB.txt\n"
     ]
    }
   ],
   "source": [
    "# folderpath = \"C:\\\\Users\\\\jmoln\\\\Documents\\\\Projects\\\\HandsLoggerWithURDF\\\\HandsLoggerWithURDF\\\\Assets\\\\URDF\\\\reachy_description\\\\gestures\\\\\"\n",
    "#folderpath = \"C:\\\\Users\\\\jmoln\\\\Documents\\\\Projects\\\\HandsLoggerWithURDF\\\\HandsLoggerWithURDF\\\\Assets\\\\URDF\\\\kinova_description\\\\gestures\\\\\"\n",
    "folderpath = \"C:\\\\Users\\\\jmoln\\\\Documents\\\\Projects\\\\NonAnthroHands_User_Study\\\\data\\\\gestures\\\\Reachy_gestures\\\\\"\n",
    "dir_list = os.listdir(folderpath)\n",
    "\n",
    "for text_file in dir_list:\n",
    "    if (text_file=='CMakeLists.txt'):\n",
    "        continue\n",
    "    if (text_file[0:3]=='new'):\n",
    "        continue\n",
    "    if (text_file[-5:]==\".meta\"):\n",
    "        continue\n",
    "    if (text_file[-4:]==\".txt\"):\n",
    "        # continue\n",
    "    # else:\n",
    "        positions = np.loadtxt(folderpath+text_file,delimiter ='[',dtype=str)\n",
    "        #print(positions)\n",
    "        print(text_file)\n",
    "        np.savetxt(folderpath+'new'+text_file,positions[:,1],fmt='%s')\n",
    "        positions = np.loadtxt(folderpath+'new'+text_file,delimiter = ']',dtype=str)\n",
    "        np.savetxt(folderpath+'new'+text_file,positions[:,0],fmt='%s')\n",
    "        positions = np.loadtxt(folderpath+'new'+text_file,delimiter = ',',dtype=str)\n",
    "        filenamecsv = text_file[0:-4]\n",
    "        #print(filenamecsv)\n",
    "        np.savetxt(folderpath+'new'+filenamecsv+'.csv',positions,delimiter=',',fmt='%s')\n",
    "        if os.path.exists(folderpath+'new'+text_file):\n",
    "            os.remove(folderpath+'new'+text_file)\n",
    "        else:\n",
    "            print(\"The file does not exist\") \n",
    "        \n",
    "        #print(positions)\n",
    "    \n",
    "# Import data from csvs\n",
    "#positions = pd.read_csv(filename)"
   ]
  },
  {
   "cell_type": "code",
   "execution_count": 61,
   "metadata": {},
   "outputs": [
    {
     "data": {
      "text/plain": [
       "'.meta'"
      ]
     },
     "execution_count": 61,
     "metadata": {},
     "output_type": "execute_result"
    }
   ],
   "source": [
    "text_file[-5:]"
   ]
  },
  {
   "cell_type": "code",
   "execution_count": 20,
   "metadata": {},
   "outputs": [
    {
     "data": {
      "text/plain": [
       "['Experimental Gesture Set',\n",
       " 'j2s6s300_corrected_positions_1.csv',\n",
       " 'j2s6s300_corrected_positions_10.csv',\n",
       " 'j2s6s300_corrected_positions_11.csv',\n",
       " 'j2s6s300_corrected_positions_12.csv',\n",
       " 'j2s6s300_corrected_positions_13.csv',\n",
       " 'j2s6s300_corrected_positions_14.csv',\n",
       " 'j2s6s300_corrected_positions_15.csv',\n",
       " 'j2s6s300_corrected_positions_16.csv',\n",
       " 'j2s6s300_corrected_positions_17.csv',\n",
       " 'j2s6s300_corrected_positions_18.csv',\n",
       " 'j2s6s300_corrected_positions_19.csv',\n",
       " 'j2s6s300_corrected_positions_2.csv',\n",
       " 'j2s6s300_corrected_positions_20.csv',\n",
       " 'j2s6s300_corrected_positions_21.csv',\n",
       " 'j2s6s300_corrected_positions_3.csv',\n",
       " 'j2s6s300_corrected_positions_4.csv',\n",
       " 'j2s6s300_corrected_positions_5.csv',\n",
       " 'j2s6s300_corrected_positions_6.csv',\n",
       " 'j2s6s300_corrected_positions_7.csv',\n",
       " 'j2s6s300_corrected_positions_8.csv',\n",
       " 'j2s6s300_corrected_positions_9.csv',\n",
       " 'jaco_1DOF_link1.txt',\n",
       " 'jaco_1DOF_link2.txt',\n",
       " 'jaco_1DOF_link3.txt',\n",
       " 'jaco_1DOF_link4Arev.txt',\n",
       " 'jaco_1DOF_link4B.txt',\n",
       " 'jaco_1DOF_link5.txt',\n",
       " 'jaco_1DOF_link6.txt',\n",
       " 'jaco_elbowinvert.txt',\n",
       " 'jaco_push_backleft.txt',\n",
       " 'jaco_push_back_push1.txt',\n",
       " 'jaco_push_back_setup1.txt',\n",
       " 'jaco_push_back_setup2.txt',\n",
       " 'jaco_push_forward.txt',\n",
       " 'jaco_push_forwardprepA.txt',\n",
       " 'jaco_push_forwardprepB.txt',\n",
       " 'jaco_push_right.txt',\n",
       " 'jaco_push_rightprep.txt',\n",
       " 'jaco_reachdown.txt',\n",
       " 'jaco_reachdown_overwall.txt',\n",
       " 'jaco_reachfwd.txt',\n",
       " 'jaco_reachleftA.txt',\n",
       " 'jaco_reachleftB.txt',\n",
       " 'jaco_reachleft_aroundwall.txt',\n",
       " 'jaco_reachleft_overwall.txt',\n",
       " 'jaco_reachright.txt',\n",
       " 'jaco_reachright_aroundwall.txt',\n",
       " 'jaco_reachright_overwall.txt',\n",
       " 'jaco_reachup.txt',\n",
       " 'jaco_reachup_underwall.txt',\n",
       " 'jaco_wave2A.txt',\n",
       " 'jaco_wave2B.txt',\n",
       " 'jaco_waveA.txt',\n",
       " 'jaco_waveB.txt',\n",
       " 'Key joint values.xlsx',\n",
       " 'newjaco_1DOF_link1.csv',\n",
       " 'newjaco_1DOF_link2.csv',\n",
       " 'newjaco_1DOF_link3.csv',\n",
       " 'newjaco_1DOF_link4.csv',\n",
       " 'newjaco_1DOF_link4Arev.csv',\n",
       " 'newjaco_1DOF_link4B.csv',\n",
       " 'newjaco_1DOF_link5.csv',\n",
       " 'newjaco_1DOF_link6.csv',\n",
       " 'newjaco_elbowinvert.csv',\n",
       " 'newjaco_push_backleft.csv',\n",
       " 'newjaco_push_back_push1.csv',\n",
       " 'newjaco_push_back_setup1.csv',\n",
       " 'newjaco_push_back_setup2.csv',\n",
       " 'newjaco_push_forward.csv',\n",
       " 'newjaco_push_forwardprepA.csv',\n",
       " 'newjaco_push_forwardprepB.csv',\n",
       " 'newjaco_push_right.csv',\n",
       " 'newjaco_push_rightprep.csv',\n",
       " 'newjaco_reachdown.csv',\n",
       " 'newjaco_reachdown_overwall.csv',\n",
       " 'newjaco_reachfwd.csv',\n",
       " 'newjaco_reachleftA.csv',\n",
       " 'newjaco_reachleftB.csv',\n",
       " 'newjaco_reachleft_aroundwall.csv',\n",
       " 'newjaco_reachleft_overwall.csv',\n",
       " 'newjaco_reachright.csv',\n",
       " 'newjaco_reachright_aroundwall.csv',\n",
       " 'newjaco_reachright_overwall.csv',\n",
       " 'newjaco_reachup.csv',\n",
       " 'newjaco_reachup_underwall.csv',\n",
       " 'newjaco_waveA.csv',\n",
       " 'newjaco_waveB.csv',\n",
       " 'Polished Gestures',\n",
       " '~$Key joint values.xlsx']"
      ]
     },
     "execution_count": 20,
     "metadata": {},
     "output_type": "execute_result"
    }
   ],
   "source": [
    "os.listdir(folderpath)"
   ]
  },
  {
   "cell_type": "code",
   "execution_count": null,
   "metadata": {},
   "outputs": [],
   "source": []
  }
 ],
 "metadata": {
  "kernelspec": {
   "display_name": "Python 3 (ipykernel)",
   "language": "python",
   "name": "python3"
  },
  "language_info": {
   "codemirror_mode": {
    "name": "ipython",
    "version": 3
   },
   "file_extension": ".py",
   "mimetype": "text/x-python",
   "name": "python",
   "nbconvert_exporter": "python",
   "pygments_lexer": "ipython3",
   "version": "3.11.3"
  }
 },
 "nbformat": 4,
 "nbformat_minor": 4
}
